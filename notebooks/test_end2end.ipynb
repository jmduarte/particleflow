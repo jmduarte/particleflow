{
 "cells": [
  {
   "cell_type": "code",
   "execution_count": null,
   "metadata": {},
   "outputs": [],
   "source": [
    "import setGPU\n",
    "import torch\n",
    "import torch_geometric\n",
    "import sklearn\n",
    "import numpy as np\n",
    "import matplotlib.pyplot as plt\n",
    "%matplotlib inline"
   ]
  },
  {
   "cell_type": "code",
   "execution_count": null,
   "metadata": {},
   "outputs": [],
   "source": [
    "import sys\n",
    "sys.path += [\"../test\"]"
   ]
  },
  {
   "cell_type": "code",
   "execution_count": null,
   "metadata": {},
   "outputs": [],
   "source": [
    "import train_end2end\n",
    "import graph_data"
   ]
  },
  {
   "cell_type": "code",
   "execution_count": null,
   "metadata": {},
   "outputs": [],
   "source": [
    "device = torch.device(\"cuda\")"
   ]
  },
  {
   "cell_type": "code",
   "execution_count": null,
   "metadata": {},
   "outputs": [],
   "source": [
    "weights = torch.load(\"/storage/user/jpata/particleflow/data/PFNet6__npar_5552143__cfg_a8420e1ef2__user_jpata__ntrain_7000__lr_0.0001__1581357310/epoch_70/PFNet6__npar_5552143__cfg_a8420e1ef2__user_jpata__ntrain_7000__lr_0.0001__1581357310.best.pth\")"
   ]
  },
  {
   "cell_type": "code",
   "execution_count": null,
   "metadata": {},
   "outputs": [],
   "source": [
    "model = train_end2end.PFNet6(15, 512, 14)\n",
    "model.load_state_dict(weights)"
   ]
  },
  {
   "cell_type": "code",
   "execution_count": null,
   "metadata": {},
   "outputs": [],
   "source": [
    "model"
   ]
  },
  {
   "cell_type": "code",
   "execution_count": null,
   "metadata": {},
   "outputs": [],
   "source": [
    "# for real validation, use QCD\n",
    "#p = \"/storage/user/jpata/particleflow/data/QCD_run3\"\n",
    "# just to see, use TTbar (note it was trained on same events)\n",
    "p = \"/storage/user/jpata/particleflow/data/TTbar_run3\"\n",
    "full_dataset = graph_data.PFGraphDataset(root=p)\n",
    "full_dataset.raw_dir = p\n",
    "full_dataset.processed_dir = p + \"/processed\""
   ]
  },
  {
   "cell_type": "code",
   "execution_count": null,
   "metadata": {},
   "outputs": [],
   "source": [
    "pred_ids = []\n",
    "true_ids = []\n",
    "pred_momenta = []\n",
    "true_momenta = []\n",
    "\n",
    "for i in range(1000):\n",
    "    d = full_dataset.get(i)\n",
    "    d.batch = torch.zeros((len(d.x)), dtype=torch.long)\n",
    "    train_end2end.data_prep(d, device=device)\n",
    "    edges, cand_id_onehot, cand_momentum = model(d)\n",
    "    _, pred_id = torch.max(cand_id_onehot, -1)\n",
    "    pred_ids += [pred_id.detach().cpu().numpy()]\n",
    "    true_ids += [d.y_candidates_id.detach().cpu().numpy()]\n",
    "    pred_momenta += [cand_momentum.detach().cpu().numpy()]\n",
    "    true_momenta += [d.y_candidates.detach().cpu().numpy()]\n",
    "    \n",
    "#     cm = sklearn.metrics.confusion_matrix(\n",
    "#         d.y_candidates_id.detach().cpu().numpy(),\n",
    "#         pred_id.detach().cpu().numpy()\n",
    "#     )\n",
    "    if i%10 == 0:\n",
    "        print(i, (pred_ids[-1]!=0).sum(), (true_ids[-1]!=0).sum())\n",
    "        "
   ]
  },
  {
   "cell_type": "code",
   "execution_count": null,
   "metadata": {},
   "outputs": [],
   "source": [
    "n_preds = []\n",
    "n_trues = []\n",
    "for i in range(len(pred_ids)):\n",
    "    n_true = np.sum(true_ids[i]!=0)\n",
    "    n_pred = np.sum(pred_ids[i]!=0)\n",
    "    n_preds += [n_pred]\n",
    "    n_trues += [n_true]"
   ]
  },
  {
   "cell_type": "code",
   "execution_count": null,
   "metadata": {},
   "outputs": [],
   "source": [
    "plt.figure(figsize=(5, 5))\n",
    "ax = plt.axes()\n",
    "plt.plot([1500,5000],[1500,5000], color=\"black\", lw=0.5)\n",
    "plt.scatter(n_trues, n_preds, marker=\".\", alpha=0.5)\n",
    "plt.xlim(1500,5000)\n",
    "plt.ylim(1500,5000)\n",
    "plt.xlabel(\"Number of Target PF Candidates\",fontsize=13)\n",
    "plt.ylabel(\"Number of Predicted GNN Candidates\",fontsize=13)\n",
    "#plt.title(\"QCD Run3\")\n",
    "\n",
    "plt.text(0.67, 1.05, \"Run 3 (14 TeV)\", transform=ax.transAxes, va=\"top\", ha=\"left\",size=12)\n",
    "plt.text(0.02, 0.98, \"CMS\", transform=ax.transAxes, va=\"top\", ha=\"left\",size=16, fontweight='bold')\n",
    "plt.text(0.18, 0.975, \"Simulation Preliminary\", transform=ax.transAxes, va=\"top\", ha=\"left\",size=12,style='italic')\n",
    "#plt.text(0.03, 0.92, \"QCD dijet events\", transform=ax.transAxes, va=\"top\", ha=\"left\",size=12)\n",
    "plt.text(0.03, 0.92, \"$\\mathrm{t}\\overline{\\mathrm{t}}$ events\", transform=ax.transAxes, va=\"top\", ha=\"left\",size=12)\n",
    "plt.tight_layout()\n",
    "plt.savefig(\"num_pred.pdf\")"
   ]
  },
  {
   "cell_type": "code",
   "execution_count": null,
   "metadata": {},
   "outputs": [],
   "source": [
    "cms = []\n",
    "for i in range(len(pred_ids)):\n",
    "    cm = sklearn.metrics.confusion_matrix(\n",
    "        true_ids[i],\n",
    "        pred_ids[i], labels=range(len(train_end2end.class_labels))\n",
    "    )\n",
    "    cms += [cm]\n",
    "cm = sum(cms)\n",
    "cm = cm / 1000.0\n",
    "cm = np.round(cm, 1)#.astype(np.int)"
   ]
  },
  {
   "cell_type": "code",
   "execution_count": null,
   "metadata": {},
   "outputs": [],
   "source": [
    "train_end2end.plot_confusion_matrix(cm, [int(x) for x in train_end2end.class_labels], normalize=True)\n",
    "#plt.xlim(-0.5, 9.5)\n",
    "#plt.ylim(-0.5, 9.5)\n",
    "plt.title(\"Normalized Confusion Matrix (QCD Run3)\")\n",
    "#plt.text(0.02, 0.98, \"CMS Simulation, preliminary\", transform=ax.transAxes, va=\"top\", ha=\"left\")\n",
    "#plt.tight_layout()\n",
    "plt.savefig(\"cm.pdf\")"
   ]
  },
  {
   "cell_type": "code",
   "execution_count": null,
   "metadata": {},
   "outputs": [],
   "source": [
    "pm = np.concatenate(pred_momenta)\n",
    "tm = np.concatenate(true_momenta)\n",
    "ti = np.concatenate(true_ids)\n",
    "pi = np.concatenate(pred_ids)"
   ]
  },
  {
   "cell_type": "code",
   "execution_count": null,
   "metadata": {},
   "outputs": [],
   "source": [
    "plt.figure(figsize=(5, 5))\n",
    "\n",
    "ax = plt.axes()\n",
    "bins = np.linspace(0, 50, 100)\n",
    "h0 = plt.hist(pm[pi!=0, 0], bins=bins, histtype=\"step\", lw=1, label=\"PF\");\n",
    "h1 = plt.hist(tm[ti!=0, 0], bins=bins, histtype=\"step\", lw=1, label=\"GNN\");\n",
    "plt.yscale(\"log\")\n",
    "plt.legend(frameon=False)\n",
    "plt.ylim(10, 1e7)\n",
    "\n",
    "plt.xlabel(\"Candidate $p_{\\mathrm{T}}$ (a.u.)\",fontsize=13)\n",
    "plt.ylabel(\"Number of Candidates\",fontsize=13)\n",
    "#plt.title(\"QCD Run 3\")\n",
    "\n",
    "plt.text(0.67, 1.05, \"Run 3 (14 TeV)\", transform=ax.transAxes, va=\"top\", ha=\"left\",size=12)\n",
    "plt.text(0.02, 0.98, \"CMS\", transform=ax.transAxes, va=\"top\", ha=\"left\",size=16, fontweight='bold')\n",
    "plt.text(0.18, 0.975, \"Simulation Preliminary\", transform=ax.transAxes, va=\"top\", ha=\"left\",size=12,style='italic')\n",
    "#plt.text(0.03, 0.92, \"QCD dijet events\", transform=ax.transAxes, va=\"top\", ha=\"left\",size=12)\n",
    "plt.text(0.03, 0.92, \"$\\mathrm{t}\\overline{\\mathrm{t}}$ events\", transform=ax.transAxes, va=\"top\", ha=\"left\",size=12)\n",
    "plt.tight_layout()\n",
    "plt.savefig(\"pt_hist.pdf\")"
   ]
  },
  {
   "cell_type": "code",
   "execution_count": null,
   "metadata": {},
   "outputs": [],
   "source": [
    "plt.figure(figsize=(5, 5))\n",
    "ax = plt.axes()\n",
    "\n",
    "bins = np.linspace(-4, 4, 100)\n",
    "plt.hist(pm[pi!=0, 1], bins=bins, histtype=\"step\", lw=1);\n",
    "plt.hist(tm[ti!=0, 1], bins=bins, histtype=\"step\", lw=1);\n",
    "plt.yscale(\"log\")\n",
    "\n",
    "plt.ylim(1000, 1e6)\n",
    "plt.xlabel(\"Candidate $\\eta$ (a.u.)\",fontsize=13)\n",
    "plt.ylabel(\"Number of Candidates\",fontsize=13)\n",
    "#plt.title(\"QCD Run 3\")\n",
    "plt.text(0.67, 1.05, \"Run 3 (14 TeV)\", transform=ax.transAxes, va=\"top\", ha=\"left\",size=12)\n",
    "plt.text(0.02, 0.98, \"CMS\", transform=ax.transAxes, va=\"top\", ha=\"left\",size=16, fontweight='bold')\n",
    "plt.text(0.18, 0.975, \"Simulation Preliminary\", transform=ax.transAxes, va=\"top\", ha=\"left\",size=12,style='italic')\n",
    "#plt.text(0.03, 0.92, \"QCD dijet events\", transform=ax.transAxes, va=\"top\", ha=\"left\",size=12)\n",
    "plt.text(0.03, 0.92, \"$\\mathrm{t}\\overline{\\mathrm{t}}$ events\", transform=ax.transAxes, va=\"top\", ha=\"left\",size=12)\n",
    "plt.tight_layout()\n",
    "plt.savefig(\"eta_hist.pdf\")"
   ]
  },
  {
   "cell_type": "code",
   "execution_count": null,
   "metadata": {},
   "outputs": [],
   "source": [
    "plt.figure(figsize=(5, 5))\n",
    "\n",
    "ax = plt.axes()\n",
    "bins = np.linspace(-3, 3, 60)\n",
    "plt.hist(pm[pi!=0, 2], bins=bins, histtype=\"step\", lw=1);\n",
    "plt.hist(tm[ti!=0, 2], bins=bins, histtype=\"step\", lw=1);\n",
    "plt.yscale(\"log\")\n",
    "plt.ylim(1000, 1e6)\n",
    "\n",
    "plt.xlabel(\"Candidate $\\phi$ (a.u.)\",fontsize=13)\n",
    "plt.ylabel(\"Number of Candidates\",fontsize=13)\n",
    "#plt.title(\"QCD Run 3\")\n",
    "\n",
    "plt.text(0.67, 1.05, \"Run 3 (14 TeV)\", transform=ax.transAxes, va=\"top\", ha=\"left\",size=12)\n",
    "plt.text(0.02, 0.98, \"CMS\", transform=ax.transAxes, va=\"top\", ha=\"left\",size=16, fontweight='bold')\n",
    "plt.text(0.18, 0.975, \"Simulation Preliminary\", transform=ax.transAxes, va=\"top\", ha=\"left\",size=12,style='italic')\n",
    "#plt.text(0.03, 0.92, \"QCD dijet events\", transform=ax.transAxes, va=\"top\", ha=\"left\",size=12)\n",
    "plt.text(0.03, 0.92, \"$\\mathrm{t}\\overline{\\mathrm{t}}$ events\", transform=ax.transAxes, va=\"top\", ha=\"left\",size=12)\n",
    "plt.tight_layout()\n",
    "plt.savefig(\"phi_hist.pdf\")"
   ]
  },
  {
   "cell_type": "code",
   "execution_count": null,
   "metadata": {},
   "outputs": [],
   "source": [
    "plt.figure(figsize=(5, 5))\n",
    "ax = plt.axes()\n",
    "\n",
    "subidx = np.where((pi!=0)&(ti!=0))[0]\n",
    "rp = np.random.permutation(range(len(subidx)))[:1000]\n",
    "\n",
    "plt.scatter(pm[subidx[rp], 0], tm[subidx[rp], 0], marker=\".\", alpha=0.5)\n",
    "plt.xlim(0,2)\n",
    "plt.ylim(0,2)\n",
    "plt.plot([0,2],[0,2], color=\"black\")\n",
    "\n",
    "plt.xlabel(\"Target PF Candidate $p_{\\mathrm{T}}$ (a.u.)\",fontsize=13)\n",
    "plt.ylabel(\"Predicted GNN Candidate $p_{\\mathrm{T}}$ (a.u.)\", fontsize=13)\n",
    "#plt.title(\"QCD Run 3, 1000 candidates\")\n",
    "\n",
    "plt.text(0.67, 1.05, \"Run 3 (14 TeV)\", transform=ax.transAxes, va=\"top\", ha=\"left\",size=12)\n",
    "plt.text(0.02, 0.98, \"CMS\", transform=ax.transAxes, va=\"top\", ha=\"left\",size=16, fontweight='bold')\n",
    "plt.text(0.18, 0.975, \"Simulation Preliminary\", transform=ax.transAxes, va=\"top\", ha=\"left\",size=12,style='italic')\n",
    "#plt.text(0.03, 0.92, \"QCD dijet events\", transform=ax.transAxes, va=\"top\", ha=\"left\",size=12)\n",
    "plt.text(0.03, 0.92, \"$\\mathrm{t}\\overline{\\mathrm{t}}$ events\", transform=ax.transAxes, va=\"top\", ha=\"left\",size=12)\n",
    "plt.tight_layout()\n",
    "plt.savefig(\"pt_corr.pdf\")"
   ]
  },
  {
   "cell_type": "code",
   "execution_count": null,
   "metadata": {},
   "outputs": [],
   "source": [
    "plt.figure(figsize=(5, 5))\n",
    "ax = plt.axes()\n",
    "\n",
    "plt.plot([-7, 7], [-7, 7], color=\"black\", lw=0.5)\n",
    "plt.scatter(pm[subidx[rp], 1], tm[subidx[rp], 1], marker=\".\", alpha=0.5)\n",
    "plt.xlim(-7, 7)\n",
    "plt.ylim(-7, 7)\n",
    "\n",
    "plt.xlabel(\"Target PF Candidate $\\eta$ (a.u.)\",fontsize=13)\n",
    "plt.ylabel(\"Predicted GNN Candidate $\\eta$ (a.u.)\",fontsize=13)\n",
    "#plt.title(\"QCD Run 3, 1000 candidates\")\n",
    "plt.text(0.67, 1.05, \"Run 3 (14 TeV)\", transform=ax.transAxes, va=\"top\", ha=\"left\",size=12)\n",
    "plt.text(0.02, 0.98, \"CMS\", transform=ax.transAxes, va=\"top\", ha=\"left\",size=16, fontweight='bold')\n",
    "plt.text(0.18, 0.975, \"Simulation Preliminary\", transform=ax.transAxes, va=\"top\", ha=\"left\",size=12,style='italic')\n",
    "#plt.text(0.03, 0.92, \"QCD dijet events\", transform=ax.transAxes, va=\"top\", ha=\"left\",size=12)\n",
    "plt.text(0.03, 0.92, \"$\\mathrm{t}\\overline{\\mathrm{t}}$ events\", transform=ax.transAxes, va=\"top\", ha=\"left\",size=12)\n",
    "plt.tight_layout()\n",
    "plt.savefig(\"eta_corr.pdf\")"
   ]
  },
  {
   "cell_type": "code",
   "execution_count": null,
   "metadata": {},
   "outputs": [],
   "source": [
    "plt.figure(figsize=(5, 5))\n",
    "ax = plt.axes()\n",
    "\n",
    "plt.plot([-5, 5], [-5, 5], color=\"black\", lw=0.5)\n",
    "plt.scatter(pm[subidx[rp], 2], tm[subidx[rp], 2], marker=\".\", alpha=0.5)\n",
    "plt.xlim(-3,3)\n",
    "plt.ylim(-3,3)\n",
    "\n",
    "\n",
    "plt.xlabel(\"Target PF Candidate $\\phi$ (a.u.)\",fontsize=13)\n",
    "plt.ylabel(\"Predicted GNN Candidate $\\phi$ (a.u.)\",fontsize=13)\n",
    "#plt.title(\"QCD Run3, 1000 candidates\")\n",
    "\n",
    "plt.text(0.67, 1.05, \"Run 3 (14 TeV)\", transform=ax.transAxes, va=\"top\", ha=\"left\",size=12)\n",
    "plt.text(0.02, 0.98, \"CMS\", transform=ax.transAxes, va=\"top\", ha=\"left\",size=16, fontweight='bold')\n",
    "plt.text(0.18, 0.975, \"Simulation Preliminary\", transform=ax.transAxes, va=\"top\", ha=\"left\",size=12,style='italic')\n",
    "#plt.text(0.03, 0.92, \"QCD dijet events\", transform=ax.transAxes, va=\"top\", ha=\"left\",size=12)\n",
    "plt.text(0.03, 0.92, \"$\\mathrm{t}\\overline{\\mathrm{t}}$ events\", transform=ax.transAxes, va=\"top\", ha=\"left\",size=12)\n",
    "plt.tight_layout()\n",
    "plt.savefig(\"phi_corr.pdf\")"
   ]
  },
  {
   "cell_type": "code",
   "execution_count": null,
   "metadata": {},
   "outputs": [],
   "source": [
    "import pandas as pd\n",
    "import tqdm\n",
    "\n",
    "import matplotlib as mpl\n",
    "mpl.rcParams['figure.figsize'] = [8.0, 6.0]\n",
    "mpl.rcParams['font.size'] = 12\n",
    "mpl.rcParams['legend.fontsize'] = 'large'\n",
    "mpl.rcParams['figure.titlesize'] = 'medium'\n",
    "\n",
    "d = full_dataset.get(1)\n",
    "d.batch = torch.zeros((len(d.x)), dtype=torch.long)\n",
    "train_end2end.data_prep(d, device=device)\n",
    "edges, cand_id_onehot, cand_momentum = model(d)\n",
    "output = edges.detach().cpu().numpy()\n",
    "d = full_dataset.get(1)\n",
    "x_data = d.x.detach().cpu().numpy()\n",
    "mask = ((x_data[:,4]==0) & (x_data[:,5]==0) & (x_data[:,6]==0) & (x_data[:,7]==0))\n",
    "good_index = np.zeros((x_data.shape[0],1,2),dtype=int)\n",
    "good_x = x_data[:,2:4].copy()                                                                            \n",
    "good_x[~mask] = x_data[~mask,2:4].copy()\n",
    "df = pd.DataFrame(good_x, columns=['eta','phi'])\n",
    "df['isTrack'] = ~mask\n",
    "row, col = d.edge_index.cpu().detach().numpy()\n",
    "y_truth = d.y.cpu().detach().numpy()\n",
    "\n",
    "min_phi = -1.25\n",
    "max_phi = 1.25\n",
    "min_eta = -1.25\n",
    "max_eta = 1.25\n",
    "extra = 1.0\n",
    "x = 'eta'\n",
    "y = 'phi'\n",
    "for plot_type in [['input'],['truth'],['output']]: \n",
    "    k = 0\n",
    "    plt.figure(figsize=(8, 6))                        \n",
    "    for i, j in tqdm.tqdm(zip(row, col),total=len(y_truth)):\n",
    "        x1 = df[x][i]\n",
    "        x2 = df[x][j]\n",
    "        y1 = df[y][i]\n",
    "        y2 = df[y][j]\n",
    "        if (x1 < min_eta-extra or x1 > max_eta+extra) or (x2 < min_eta-extra or x2 > max_eta+extra): continue\n",
    "        if (y1 < min_phi-extra or y1 > max_phi+extra) or (y2 < min_phi-extra or y2 > max_phi+extra): continue\n",
    "        if 'input' in plot_type:\n",
    "            seg_args = dict(c='b',alpha=0.1,zorder=1)\n",
    "            plt.plot([df[x][i], df[x][j]],\n",
    "                 [df[y][i], df[y][j]], '-', **seg_args)\n",
    "        if 'truth' in plot_type and y_truth[k]:\n",
    "            seg_args = dict(c='r',alpha=0.8,zorder=2)\n",
    "            plt.plot([df[x][i], df[x][j]],\n",
    "                 [df[y][i], df[y][j]], '-', **seg_args)\n",
    "        if 'output' in plot_type:\n",
    "            seg_args = dict(c='g',alpha=output[k].item(),zorder=3)\n",
    "            plt.plot([df[x][i], df[x][j]],\n",
    "                 [df[y][i], df[y][j]], '-', **seg_args)\n",
    "        k+=1\n",
    "    cut_mask = (df[x] > min_eta-extra) & (df[x] < max_eta+extra) & (df[y] > min_phi-extra) & (df[y] < max_phi+extra)\n",
    "    cluster_mask = cut_mask & ~df['isTrack']\n",
    "    track_mask = cut_mask & df['isTrack']\n",
    "    plt.scatter(df[x][cluster_mask], df[y][cluster_mask],c='g',marker='o',s=50,zorder=4,alpha=1)\n",
    "    plt.scatter(df[x][track_mask], df[y][track_mask],c='b',marker='p',s=50,zorder=5,alpha=1)\n",
    "    plt.xlabel(\"Track or Cluster $\\eta$\",fontsize=18)\n",
    "    plt.ylabel(\"Track or Cluster $\\phi$\",fontsize=18)\n",
    "    plt.xlim(min_eta, max_eta)\n",
    "    plt.ylim(min_phi, max_phi)\n",
    "    plt.figtext(0.12, 0.90,'CMS',fontweight='bold', wrap=True, horizontalalignment='left', fontsize=20)\n",
    "    plt.figtext(0.22, 0.90,'Simulation Preliminary', style='italic', wrap=True, horizontalalignment='left', fontsize=18)\n",
    "    plt.figtext(0.67, 0.90,'Run 3 (14 TeV)',  wrap=True, horizontalalignment='left', fontsize=18)\n",
    "    plt.savefig('graph_%s_%s_%s.pdf'%(x,y,'_'.join(plot_type)))"
   ]
  },
  {
   "cell_type": "code",
   "execution_count": null,
   "metadata": {},
   "outputs": [],
   "source": []
  }
 ],
 "metadata": {
  "kernelspec": {
   "display_name": "Python 3",
   "language": "python",
   "name": "python3"
  },
  "language_info": {
   "codemirror_mode": {
    "name": "ipython",
    "version": 3
   },
   "file_extension": ".py",
   "mimetype": "text/x-python",
   "name": "python",
   "nbconvert_exporter": "python",
   "pygments_lexer": "ipython3",
   "version": "3.6.9"
  }
 },
 "nbformat": 4,
 "nbformat_minor": 4
}
